{
 "cells": [
  {
   "cell_type": "code",
   "id": "initial_id",
   "metadata": {
    "collapsed": true,
    "ExecuteTime": {
     "end_time": "2025-09-17T16:15:57.492945Z",
     "start_time": "2025-09-17T16:15:57.488011Z"
    }
   },
   "source": [
    "import asyncpg\n",
    "\n",
    "async def create_connection_pool():\n",
    "    return await asyncpg.create_pool(\n",
    "        user='your_user',\n",
    "        password='your_password',\n",
    "        database='your_database',\n",
    "        host='127.0.0.1',\n",
    "        port=5432,\n",
    "        min_size=1,\n",
    "        max_size=5,\n",
    "    )"
   ],
   "outputs": [],
   "execution_count": 6
  },
  {
   "metadata": {},
   "cell_type": "code",
   "outputs": [],
   "execution_count": null,
   "source": [
    "class UserRepository:\n",
    "    def init(self, db_pool):\n",
    "        self.db_pool = db_pool\n",
    "\n",
    "    async def create_table(self):\n",
    "        async with self.db_pool.acquire() as conn:\n",
    "            await conn.execute('''\n",
    "                CREATE TABLE IF NOT EXISTS users (\n",
    "                    id SERIAL PRIMARY KEY,\n",
    "                    name TEXT NOT NULL,\n",
    "                    age INT\n",
    "                );\n",
    "            ''')\n",
    "\n",
    "    async def add_user(self, name: str, age: int):\n",
    "        async with self.db_pool.acquire() as conn:\n",
    "            await conn.execute(\n",
    "                'INSERT INTO users (name, age) VALUES ($1, $2);',\n",
    "                name, age\n",
    "            )\n",
    "\n",
    "    async def get_all_users(self):\n",
    "        async with self.db_pool.acquire() as conn:\n",
    "            rows = await conn.fetch('SELECT * FROM users;')\n",
    "            return [dict(row) for row in rows]\n",
    "\n",
    "    async def get_user_by_id(self, user_id: int):\n",
    "        async with self.db_pool.acquire() as conn:\n",
    "            row = await conn.fetchrow('SELECT * FROM users WHERE id = $1;', user_id)\n",
    "            return dict(row) if row else None"
   ],
   "id": "abb29cf548abcb36"
  }
 ],
 "metadata": {
  "kernelspec": {
   "display_name": "Python 3",
   "language": "python",
   "name": "python3"
  },
  "language_info": {
   "codemirror_mode": {
    "name": "ipython",
    "version": 2
   },
   "file_extension": ".py",
   "mimetype": "text/x-python",
   "name": "python",
   "nbconvert_exporter": "python",
   "pygments_lexer": "ipython2",
   "version": "2.7.6"
  }
 },
 "nbformat": 4,
 "nbformat_minor": 5
}
